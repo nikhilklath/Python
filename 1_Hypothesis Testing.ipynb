{
 "cells": [
  {
   "cell_type": "markdown",
   "metadata": {},
   "source": [
    "---\n",
    "\n",
    "_You are currently looking at **version 1.1** of this notebook. To download notebooks and datafiles, as well as get help on Jupyter notebooks in the Coursera platform, visit the [Jupyter Notebook FAQ](https://www.coursera.org/learn/python-data-analysis/resources/0dhYG) course resource._\n",
    "\n",
    "---"
   ]
  },
  {
   "cell_type": "code",
   "execution_count": 1,
   "metadata": {
    "collapsed": true
   },
   "outputs": [],
   "source": [
    "import pandas as pd\n",
    "import numpy as np\n",
    "from scipy import stats"
   ]
  },
  {
   "cell_type": "markdown",
   "metadata": {},
   "source": [
    "# Assignment 4 - Hypothesis Testing\n",
    "This assignment requires more individual learning than previous assignments - you are encouraged to check out the [pandas documentation](http://pandas.pydata.org/pandas-docs/stable/) to find functions or methods you might not have used yet, or ask questions on [Stack Overflow](http://stackoverflow.com/) and tag them as pandas and python related. And of course, the discussion forums are open for interaction with your peers and the course staff.\n",
    "\n",
    "Definitions:\n",
    "* A _quarter_ is a specific three month period, Q1 is January through March, Q2 is April through June, Q3 is July through September, Q4 is October through December.\n",
    "* A _recession_ is defined as starting with two consecutive quarters of GDP decline, and ending with two consecutive quarters of GDP growth.\n",
    "* A _recession bottom_ is the quarter within a recession which had the lowest GDP.\n",
    "* A _university town_ is a city which has a high percentage of university students compared to the total population of the city.\n",
    "\n",
    "**Hypothesis**: University towns have their mean housing prices less effected by recessions. Run a t-test to compare the ratio of the mean price of houses in university towns the quarter before the recession starts compared to the recession bottom. (`price_ratio=quarter_before_recession/recession_bottom`)\n",
    "\n",
    "The following data files are available for this assignment:\n",
    "* From the [Zillow research data site](http://www.zillow.com/research/data/) there is housing data for the United States. In particular the datafile for [all homes at a city level](http://files.zillowstatic.com/research/public/City/City_Zhvi_AllHomes.csv), ```City_Zhvi_AllHomes.csv```, has median home sale prices at a fine grained level.\n",
    "* From the Wikipedia page on college towns is a list of [university towns in the United States](https://en.wikipedia.org/wiki/List_of_college_towns#College_towns_in_the_United_States) which has been copy and pasted into the file ```university_towns.txt```.\n",
    "* From Bureau of Economic Analysis, US Department of Commerce, the [GDP over time](http://www.bea.gov/national/index.htm#gdp) of the United States in current dollars (use the chained value in 2009 dollars), in quarterly intervals, in the file ```gdplev.xls```. For this assignment, only look at GDP data from the first quarter of 2000 onward.\n",
    "\n",
    "Each function in this assignment below is worth 10%, with the exception of ```run_ttest()```, which is worth 50%."
   ]
  },
  {
   "cell_type": "code",
   "execution_count": 2,
   "metadata": {
    "collapsed": false
   },
   "outputs": [],
   "source": [
    "# Use this dictionary to map state names to two letter acronyms\n",
    "states = {'OH': 'Ohio', 'KY': 'Kentucky', 'AS': 'American Samoa', 'NV': 'Nevada', 'WY': 'Wyoming', 'NA': 'National', 'AL': 'Alabama', 'MD': 'Maryland', 'AK': 'Alaska', 'UT': 'Utah', 'OR': 'Oregon', 'MT': 'Montana', 'IL': 'Illinois', 'TN': 'Tennessee', 'DC': 'District of Columbia', 'VT': 'Vermont', 'ID': 'Idaho', 'AR': 'Arkansas', 'ME': 'Maine', 'WA': 'Washington', 'HI': 'Hawaii', 'WI': 'Wisconsin', 'MI': 'Michigan', 'IN': 'Indiana', 'NJ': 'New Jersey', 'AZ': 'Arizona', 'GU': 'Guam', 'MS': 'Mississippi', 'PR': 'Puerto Rico', 'NC': 'North Carolina', 'TX': 'Texas', 'SD': 'South Dakota', 'MP': 'Northern Mariana Islands', 'IA': 'Iowa', 'MO': 'Missouri', 'CT': 'Connecticut', 'WV': 'West Virginia', 'SC': 'South Carolina', 'LA': 'Louisiana', 'KS': 'Kansas', 'NY': 'New York', 'NE': 'Nebraska', 'OK': 'Oklahoma', 'FL': 'Florida', 'CA': 'California', 'CO': 'Colorado', 'PA': 'Pennsylvania', 'DE': 'Delaware', 'NM': 'New Mexico', 'RI': 'Rhode Island', 'MN': 'Minnesota', 'VI': 'Virgin Islands', 'NH': 'New Hampshire', 'MA': 'Massachusetts', 'GA': 'Georgia', 'ND': 'North Dakota', 'VA': 'Virginia'}"
   ]
  },
  {
   "cell_type": "code",
   "execution_count": 3,
   "metadata": {
    "collapsed": false,
    "tags": []
   },
   "outputs": [
    {
     "output_type": "execute_result",
     "data": {
      "text/plain": "         State     RegionName\n0      Alabama         Auburn\n1      Alabama       Florence\n2      Alabama   Jacksonville\n3      Alabama     Livingston\n4      Alabama     Montevallo\n..         ...            ...\n512  Wisconsin    River Falls\n513  Wisconsin  Stevens Point\n514  Wisconsin       Waukesha\n515  Wisconsin     Whitewater\n516    Wyoming        Laramie\n\n[517 rows x 2 columns]",
      "text/html": "<div>\n<style scoped>\n    .dataframe tbody tr th:only-of-type {\n        vertical-align: middle;\n    }\n\n    .dataframe tbody tr th {\n        vertical-align: top;\n    }\n\n    .dataframe thead th {\n        text-align: right;\n    }\n</style>\n<table border=\"1\" class=\"dataframe\">\n  <thead>\n    <tr style=\"text-align: right;\">\n      <th></th>\n      <th>State</th>\n      <th>RegionName</th>\n    </tr>\n  </thead>\n  <tbody>\n    <tr>\n      <th>0</th>\n      <td>Alabama</td>\n      <td>Auburn</td>\n    </tr>\n    <tr>\n      <th>1</th>\n      <td>Alabama</td>\n      <td>Florence</td>\n    </tr>\n    <tr>\n      <th>2</th>\n      <td>Alabama</td>\n      <td>Jacksonville</td>\n    </tr>\n    <tr>\n      <th>3</th>\n      <td>Alabama</td>\n      <td>Livingston</td>\n    </tr>\n    <tr>\n      <th>4</th>\n      <td>Alabama</td>\n      <td>Montevallo</td>\n    </tr>\n    <tr>\n      <th>...</th>\n      <td>...</td>\n      <td>...</td>\n    </tr>\n    <tr>\n      <th>512</th>\n      <td>Wisconsin</td>\n      <td>River Falls</td>\n    </tr>\n    <tr>\n      <th>513</th>\n      <td>Wisconsin</td>\n      <td>Stevens Point</td>\n    </tr>\n    <tr>\n      <th>514</th>\n      <td>Wisconsin</td>\n      <td>Waukesha</td>\n    </tr>\n    <tr>\n      <th>515</th>\n      <td>Wisconsin</td>\n      <td>Whitewater</td>\n    </tr>\n    <tr>\n      <th>516</th>\n      <td>Wyoming</td>\n      <td>Laramie</td>\n    </tr>\n  </tbody>\n</table>\n<p>517 rows × 2 columns</p>\n</div>"
     },
     "metadata": {},
     "execution_count": 3
    }
   ],
   "source": [
    "'''Returns a DataFrame of towns and the states they are in from the \n",
    "    university_towns.txt list. The format of the DataFrame should be:\n",
    "    DataFrame( [ [\"Michigan\", \"Ann Arbor\"], [\"Michigan\", \"Yipsilanti\"] ], \n",
    "    columns=[\"State\", \"RegionName\"]  )\n",
    "    \n",
    "    The following cleaning needs to be done:\n",
    "\n",
    "    1. For \"State\", removing characters from \"[\" to the end.\n",
    "    2. For \"RegionName\", when applicable, removing every character from \" (\" to the end.\n",
    "    3. Depending on how you read the data, you may need to remove newline character '\\n'. '''\n",
    "    \n",
    "def get_list_of_university_towns():\n",
    "\n",
    "    # open the test file\n",
    "    univ = open('university_towns.txt', 'r') \n",
    "\n",
    "    state=''\n",
    "    region=''\n",
    "    town_list=[]\n",
    "\n",
    "    #read the text file as book, line by line\n",
    "    with univ as book:\n",
    "        # read line by line\n",
    "        for count, line in enumerate(book):\n",
    "\n",
    "             #find the position of '[edit]' in each line\n",
    "            pos=line.find('[edit]')\n",
    "\n",
    "            if (pos!=-1):\n",
    "                # if [edit] is found, the line contains state name\n",
    "                state=line[:pos].rstrip() #strip state name of the white spaces\n",
    "\n",
    "            else:\n",
    "                # if [edit] is not found, the line contains town name with university name\n",
    "                pos1=line.find('(') # find position of '(' where name of university starts\n",
    "                region=line[:pos1].rstrip() # strip town name of white spaces\n",
    "\n",
    "            if(pos==-1):\n",
    "                # if line doesn't have state name, add town name to the list with corresponding state name \n",
    "                town_list=town_list+[[state,region]]\n",
    "\n",
    "    #convert list into a dataframe\n",
    "    df=pd.DataFrame(town_list,columns=['State','RegionName'])\n",
    "    df.loc[96,'RegionName']='Champaign–Urbana'\n",
    "    \n",
    "    return df\n",
    "get_list_of_university_towns()"
   ]
  },
  {
   "cell_type": "code",
   "execution_count": 4,
   "metadata": {
    "collapsed": false
   },
   "outputs": [
    {
     "output_type": "execute_result",
     "data": {
      "text/plain": "'2008q3'"
     },
     "metadata": {},
     "execution_count": 4
    }
   ],
   "source": [
    "def get_recession_start():\n",
    "\n",
    "    GDP=pd.read_excel('gdplev.xls')\n",
    "\n",
    "    # read the excel file from line 7 onwards\n",
    "    GDP=GDP[7:]\n",
    "\n",
    "    # rename columns for legibility\n",
    "    GDP=GDP.rename(columns={'Current-Dollar and \"Real\" Gross Domestic Product' : 'Year','Unnamed: 1': 'GDP_c','Unnamed: 2': 'GDP_09','Unnamed: 4':'Quarter', 'Unnamed: 5':'GDP_cq','Unnamed: 6': 'GDP_09q'}).reset_index()\n",
    "\n",
    "    # drop some columns which are not needed \n",
    "    # subset quarterly data for relevant years \n",
    "    GDP=GDP.drop(['index','Unnamed: 3'], axis=1).iloc[212:,3:6]\n",
    "\n",
    "    count=1 # count number of quarters of declining GDP\n",
    "    prev1=0 # temporary variables to exchange data\n",
    "    prev2=0 # temporary variables to exchange data\n",
    "    rec_start=0\n",
    "\n",
    "    # loop over each quarter\n",
    "    for each in GDP['GDP_09q']:\n",
    "        if (count>2):\n",
    "            # if this isnt the first two quarter of the relevant period\n",
    "            if ((each-prev1<0) & (prev1-prev2<0)):\n",
    "                # if GDP has been declining for past two quarters, store the quarter value\n",
    "                rec_start=GDP.loc[GDP['GDP_09q']==each].index[0]-1\n",
    "                break\n",
    "            else:\n",
    "                # if GDP has not been declining for past two quarters, then exchnage values for comparison next quarter\n",
    "                prev2=prev1\n",
    "                prev1=each\n",
    "        else:\n",
    "            if(count==1):\n",
    "                # if this is first quarter of the relevant period, store this quarter value for comparison next quarter\n",
    "                prev2=each\n",
    "\n",
    "            if(count==2):\n",
    "                # if this is second quarter of the relevant period, store this quarter value for comparison next quarter\n",
    "                prev1=each\n",
    "\n",
    "        count+=1   \n",
    "\n",
    "    return GDP.loc[rec_start]['Quarter']\n",
    "    '''Returns the year and quarter of the recession start time as a \n",
    "    string value in a format such as 2005q3'''\n",
    "get_recession_start()"
   ]
  },
  {
   "cell_type": "code",
   "execution_count": 5,
   "metadata": {
    "collapsed": false
   },
   "outputs": [
    {
     "output_type": "execute_result",
     "data": {
      "text/plain": "'2009q4'"
     },
     "metadata": {},
     "execution_count": 5
    }
   ],
   "source": [
    "def get_recession_end():\n",
    "\n",
    "    GDP=pd.read_excel('gdplev.xls')\n",
    "\n",
    "    # read the excel file from line 7 onwards\n",
    "    GDP=GDP[7:]\n",
    "\n",
    "    # rename columns for legibility\n",
    "    GDP=GDP.rename(columns={'Current-Dollar and \"Real\" Gross Domestic Product' : 'Year','Unnamed: 1': 'GDP_c','Unnamed: 2': 'GDP_09','Unnamed: 4':'Quarter', 'Unnamed: 5':'GDP_cq','Unnamed: 6': 'GDP_09q'}).reset_index()\n",
    "\n",
    "    # drop some columns which are not needed \n",
    "    # subset quarterly data for relevant years \n",
    "    GDP=GDP.drop(['index','Unnamed: 3'], axis=1).iloc[212:,3:6]\n",
    "\n",
    "    count=1 # count number of quarters of declining GDP\n",
    "    prev1=0 # temporary variables to exchange data\n",
    "    prev2=0 # temporary variables to exchange data\n",
    "    rec_start=0\n",
    "\n",
    "    # loop over each quarter\n",
    "    for each in GDP['GDP_09q']:\n",
    "        if (count>2):\n",
    "            # if this isnt the first two quarter of the relevant period\n",
    "            if ((each-prev1<0) & (prev1-prev2<0)):\n",
    "                # if GDP has been declining for past two quarters, store the quarter value\n",
    "                rec_start=GDP.loc[GDP['GDP_09q']==each].index[0]-1\n",
    "                # end the loop\n",
    "                break\n",
    "            else:\n",
    "                # if GDP has not been declining for past two quarters, then exchnage values for comparison next quarter\n",
    "                prev2=prev1\n",
    "                prev1=each\n",
    "        else:\n",
    "            if(count==1):\n",
    "                # if this is first quarter of the relevant period, store this quarter value for comparison next quarter\n",
    "                prev2=each\n",
    "\n",
    "            if(count==2):\n",
    "                # if this is second quarter of the relevant period, store this quarter value for comparison next quarter\n",
    "                prev1=each\n",
    "\n",
    "        count+=1   \n",
    "    \n",
    "    rec_end=0\n",
    "    count=1 # count number of quarters of declining GDP\n",
    "    prev1=0 # temporary variables to exchange data\n",
    "    prev2=0 # temporary variables to exchange data\n",
    "\n",
    "    for each in GDP['GDP_09q']:\n",
    "        if (count>2):\n",
    "            # if this isnt the first two quarter of the relevant period\n",
    "            if ((each-prev1>0) & (prev1-prev2>0) & ((GDP.loc[GDP['GDP_09q']==each].index[0]-2)>rec_start)):\n",
    "                # if GDP has been increasing for past two quarters,\n",
    "                # and the quarter is ahead of the quarter where recession began, store the quarter value\n",
    "                rec_end=GDP.loc[GDP['GDP_09q']==each].index[0]\n",
    "                # end the loop\n",
    "                break\n",
    "            else:\n",
    "                # if GDP has not been increasing for past two quarters, then exchnage values for comparison next quarter\n",
    "                prev2=prev1\n",
    "                prev1=each\n",
    "\n",
    "        else:\n",
    "            if(count==1):\n",
    "                # if this is first quarter of the relevant period, store this quarter value for comparison next quarter\n",
    "                prev2=each\n",
    "            if(count==2):\n",
    "                # if this is second quarter of the relevant period, store this quarter value for comparison next quarter\n",
    "                prev1=each\n",
    "\n",
    "        count+=1   \n",
    "    return GDP.loc[rec_end]['Quarter']\n",
    "    '''Returns the year and quarter of the recession end time as a \n",
    "    string value in a format such as 2005q3'''\n",
    "       \n",
    "get_recession_end()"
   ]
  },
  {
   "cell_type": "code",
   "execution_count": 6,
   "metadata": {
    "collapsed": false
   },
   "outputs": [
    {
     "output_type": "execute_result",
     "data": {
      "text/plain": "'2009q2'"
     },
     "metadata": {},
     "execution_count": 6
    }
   ],
   "source": [
    "def get_recession_bottom():\n",
    "\n",
    "    GDP=pd.read_excel('gdplev.xls')\n",
    "\n",
    "    # read the excel file from line 7 onwards\n",
    "    GDP=GDP[7:]\n",
    "\n",
    "    # rename columns for legibility\n",
    "    GDP=GDP.rename(columns={'Current-Dollar and \"Real\" Gross Domestic Product' : 'Year','Unnamed: 1': 'GDP_c','Unnamed: 2': 'GDP_09','Unnamed: 4':'Quarter', 'Unnamed: 5':'GDP_cq','Unnamed: 6': 'GDP_09q'}).reset_index()\n",
    "\n",
    "    # drop some columns which are not needed \n",
    "    # subset quarterly data for relevant years \n",
    "    GDP=GDP.drop(['index','Unnamed: 3'], axis=1).iloc[212:,3:6]\n",
    "\n",
    "    # get index of recession start quarter\n",
    "    start=GDP.loc[get_recession_start()==GDP['Quarter']].index[0]\n",
    "\n",
    "    # get index of recession end quarter\n",
    "    end=GDP.loc[GDP['Quarter']==get_recession_end()].index[0]\n",
    "\n",
    "    # get index of quarter in between recession start and end where GDP was minimum\n",
    "    i=GDP.loc[GDP['GDP_09q']==np.min(GDP.loc[start:end]['GDP_09q'])].index[0]\n",
    "\n",
    "    # retun the quarter for the recession bottom quarter\n",
    "    return GDP.loc[i]['Quarter']\n",
    "    '''Returns the year and quarter of the recession bottom time as a \n",
    "    string value in a format such as 2005q3'''\n",
    "    \n",
    "get_recession_bottom()"
   ]
  },
  {
   "cell_type": "code",
   "execution_count": 7,
   "metadata": {
    "collapsed": false
   },
   "outputs": [
    {
     "output_type": "execute_result",
     "data": {
      "text/plain": "                                         2000q1         2000q2         2000q3  \\\nSTATE        RegionName                                                         \nNew York     New York                       NaN            NaN            NaN   \nCalifornia   Los Angeles          207066.666667  214466.666667  220966.666667   \nIllinois     Chicago              138400.000000  143633.333333  147866.666667   \nPennsylvania Philadelphia          53000.000000   53633.333333   54133.333333   \nArizona      Phoenix              111833.333333  114366.666667  116000.000000   \n...                                         ...            ...            ...   \nWisconsin    Town of Wrightstown  101766.666667  105400.000000  111366.666667   \nNew York     Urbana                79200.000000   81666.666667   91700.000000   \nWisconsin    New Denmark          114566.666667  119266.666667  126066.666667   \nCalifornia   Angels               151000.000000  155900.000000  158100.000000   \nWisconsin    Holland              151033.333333  150500.000000  153233.333333   \n\n                                         2000q4         2001q1         2001q2  \\\nSTATE        RegionName                                                         \nNew York     New York                       NaN            NaN            NaN   \nCalifornia   Los Angeles          226166.666667  233000.000000  239100.000000   \nIllinois     Chicago              152133.333333  156933.333333  161800.000000   \nPennsylvania Philadelphia          54700.000000   55333.333333   55533.333333   \nArizona      Phoenix              117400.000000  119600.000000  121566.666667   \n...                                         ...            ...            ...   \nWisconsin    Town of Wrightstown  114866.666667  125966.666667  129900.000000   \nNew York     Urbana                98366.666667   94866.666667   98533.333333   \nWisconsin    New Denmark          131966.666667  143800.000000  146966.666667   \nCalifornia   Angels               167466.666667  176833.333333  183766.666667   \nWisconsin    Holland              155833.333333  161866.666667  165733.333333   \n\n                                         2001q3         2001q4         2002q1  \\\nSTATE        RegionName                                                         \nNew York     New York                       NaN            NaN            NaN   \nCalifornia   Los Angeles          245066.666667  253033.333333  261966.666667   \nIllinois     Chicago              166400.000000  170433.333333  175500.000000   \nPennsylvania Philadelphia          56266.666667   57533.333333   59133.333333   \nArizona      Phoenix              122700.000000  124300.000000  126533.333333   \n...                                         ...            ...            ...   \nWisconsin    Town of Wrightstown  129900.000000  129433.333333  131900.000000   \nNew York     Urbana               102966.666667   98033.333333   93966.666667   \nWisconsin    New Denmark          148366.666667  149166.666667  153133.333333   \nCalifornia   Angels               190233.333333  184566.666667  184033.333333   \nWisconsin    Holland              168033.333333  167400.000000  165766.666667   \n\n                                         2002q2  ...         2014q2  \\\nSTATE        RegionName                          ...                  \nNew York     New York                       NaN  ...  515466.666667   \nCalifornia   Los Angeles          272700.000000  ...  498033.333333   \nIllinois     Chicago              177566.666667  ...  192633.333333   \nPennsylvania Philadelphia          60733.333333  ...  113733.333333   \nArizona      Phoenix              128366.666667  ...  164266.666667   \n...                                         ...  ...            ...   \nWisconsin    Town of Wrightstown  134200.000000  ...  144866.666667   \nNew York     Urbana                94600.000000  ...  132133.333333   \nWisconsin    New Denmark          156733.333333  ...  174566.666667   \nCalifornia   Angels               186133.333333  ...  244466.666667   \nWisconsin    Holland              161966.666667  ...  201266.666667   \n\n                                         2014q3         2014q4         2015q1  \\\nSTATE        RegionName                                                         \nNew York     New York             522800.000000  528066.666667  532266.666667   \nCalifornia   Los Angeles          509066.666667  518866.666667  528800.000000   \nIllinois     Chicago              195766.666667  201266.666667  201066.666667   \nPennsylvania Philadelphia         115300.000000  115666.666667  116200.000000   \nArizona      Phoenix              165366.666667  168500.000000  171533.333333   \n...                                         ...            ...            ...   \nWisconsin    Town of Wrightstown  146866.666667  149233.333333  148666.666667   \nNew York     Urbana               137033.333333  140066.666667  141700.000000   \nWisconsin    New Denmark          181166.666667  186166.666667  187600.000000   \nCalifornia   Angels               254066.666667  259933.333333  260100.000000   \nWisconsin    Holland              201566.666667  201266.666667  206000.000000   \n\n                                         2015q2         2015q3         2015q4  \\\nSTATE        RegionName                                                         \nNew York     New York             540800.000000  557200.000000  572833.333333   \nCalifornia   Los Angeles          538166.666667  547266.666667  557733.333333   \nIllinois     Chicago              206033.333333  208300.000000  207900.000000   \nPennsylvania Philadelphia         117966.666667  121233.333333  122200.000000   \nArizona      Phoenix              174166.666667  179066.666667  183833.333333   \n...                                         ...            ...            ...   \nWisconsin    Town of Wrightstown  149333.333333  149866.666667  149933.333333   \nNew York     Urbana               137866.666667  136466.666667  136166.666667   \nWisconsin    New Denmark          188666.666667  188433.333333  188933.333333   \nCalifornia   Angels               250633.333333  263500.000000  279500.000000   \nWisconsin    Holland              207600.000000  212866.666667  217833.333333   \n\n                                         2016q1         2016q2    2016q3  \nSTATE        RegionName                                                   \nNew York     New York             582866.666667  591633.333333  587200.0  \nCalifornia   Los Angeles          566033.333333  577466.666667  584050.0  \nIllinois     Chicago              206066.666667  208200.000000  212000.0  \nPennsylvania Philadelphia         123433.333333  126933.333333  128700.0  \nArizona      Phoenix              187900.000000  191433.333333  195200.0  \n...                                         ...            ...       ...  \nWisconsin    Town of Wrightstown  149833.333333  151266.666667  155000.0  \nNew York     Urbana               138966.666667  144200.000000  143000.0  \nWisconsin    New Denmark          191066.666667  192833.333333  197600.0  \nCalifornia   Angels               276533.333333  271600.000000  269950.0  \nWisconsin    Holland              221966.666667  228033.333333  234950.0  \n\n[10730 rows x 67 columns]",
      "text/html": "<div>\n<style scoped>\n    .dataframe tbody tr th:only-of-type {\n        vertical-align: middle;\n    }\n\n    .dataframe tbody tr th {\n        vertical-align: top;\n    }\n\n    .dataframe thead th {\n        text-align: right;\n    }\n</style>\n<table border=\"1\" class=\"dataframe\">\n  <thead>\n    <tr style=\"text-align: right;\">\n      <th></th>\n      <th></th>\n      <th>2000q1</th>\n      <th>2000q2</th>\n      <th>2000q3</th>\n      <th>2000q4</th>\n      <th>2001q1</th>\n      <th>2001q2</th>\n      <th>2001q3</th>\n      <th>2001q4</th>\n      <th>2002q1</th>\n      <th>2002q2</th>\n      <th>...</th>\n      <th>2014q2</th>\n      <th>2014q3</th>\n      <th>2014q4</th>\n      <th>2015q1</th>\n      <th>2015q2</th>\n      <th>2015q3</th>\n      <th>2015q4</th>\n      <th>2016q1</th>\n      <th>2016q2</th>\n      <th>2016q3</th>\n    </tr>\n    <tr>\n      <th>STATE</th>\n      <th>RegionName</th>\n      <th></th>\n      <th></th>\n      <th></th>\n      <th></th>\n      <th></th>\n      <th></th>\n      <th></th>\n      <th></th>\n      <th></th>\n      <th></th>\n      <th></th>\n      <th></th>\n      <th></th>\n      <th></th>\n      <th></th>\n      <th></th>\n      <th></th>\n      <th></th>\n      <th></th>\n      <th></th>\n      <th></th>\n    </tr>\n  </thead>\n  <tbody>\n    <tr>\n      <th>New York</th>\n      <th>New York</th>\n      <td>NaN</td>\n      <td>NaN</td>\n      <td>NaN</td>\n      <td>NaN</td>\n      <td>NaN</td>\n      <td>NaN</td>\n      <td>NaN</td>\n      <td>NaN</td>\n      <td>NaN</td>\n      <td>NaN</td>\n      <td>...</td>\n      <td>515466.666667</td>\n      <td>522800.000000</td>\n      <td>528066.666667</td>\n      <td>532266.666667</td>\n      <td>540800.000000</td>\n      <td>557200.000000</td>\n      <td>572833.333333</td>\n      <td>582866.666667</td>\n      <td>591633.333333</td>\n      <td>587200.0</td>\n    </tr>\n    <tr>\n      <th>California</th>\n      <th>Los Angeles</th>\n      <td>207066.666667</td>\n      <td>214466.666667</td>\n      <td>220966.666667</td>\n      <td>226166.666667</td>\n      <td>233000.000000</td>\n      <td>239100.000000</td>\n      <td>245066.666667</td>\n      <td>253033.333333</td>\n      <td>261966.666667</td>\n      <td>272700.000000</td>\n      <td>...</td>\n      <td>498033.333333</td>\n      <td>509066.666667</td>\n      <td>518866.666667</td>\n      <td>528800.000000</td>\n      <td>538166.666667</td>\n      <td>547266.666667</td>\n      <td>557733.333333</td>\n      <td>566033.333333</td>\n      <td>577466.666667</td>\n      <td>584050.0</td>\n    </tr>\n    <tr>\n      <th>Illinois</th>\n      <th>Chicago</th>\n      <td>138400.000000</td>\n      <td>143633.333333</td>\n      <td>147866.666667</td>\n      <td>152133.333333</td>\n      <td>156933.333333</td>\n      <td>161800.000000</td>\n      <td>166400.000000</td>\n      <td>170433.333333</td>\n      <td>175500.000000</td>\n      <td>177566.666667</td>\n      <td>...</td>\n      <td>192633.333333</td>\n      <td>195766.666667</td>\n      <td>201266.666667</td>\n      <td>201066.666667</td>\n      <td>206033.333333</td>\n      <td>208300.000000</td>\n      <td>207900.000000</td>\n      <td>206066.666667</td>\n      <td>208200.000000</td>\n      <td>212000.0</td>\n    </tr>\n    <tr>\n      <th>Pennsylvania</th>\n      <th>Philadelphia</th>\n      <td>53000.000000</td>\n      <td>53633.333333</td>\n      <td>54133.333333</td>\n      <td>54700.000000</td>\n      <td>55333.333333</td>\n      <td>55533.333333</td>\n      <td>56266.666667</td>\n      <td>57533.333333</td>\n      <td>59133.333333</td>\n      <td>60733.333333</td>\n      <td>...</td>\n      <td>113733.333333</td>\n      <td>115300.000000</td>\n      <td>115666.666667</td>\n      <td>116200.000000</td>\n      <td>117966.666667</td>\n      <td>121233.333333</td>\n      <td>122200.000000</td>\n      <td>123433.333333</td>\n      <td>126933.333333</td>\n      <td>128700.0</td>\n    </tr>\n    <tr>\n      <th>Arizona</th>\n      <th>Phoenix</th>\n      <td>111833.333333</td>\n      <td>114366.666667</td>\n      <td>116000.000000</td>\n      <td>117400.000000</td>\n      <td>119600.000000</td>\n      <td>121566.666667</td>\n      <td>122700.000000</td>\n      <td>124300.000000</td>\n      <td>126533.333333</td>\n      <td>128366.666667</td>\n      <td>...</td>\n      <td>164266.666667</td>\n      <td>165366.666667</td>\n      <td>168500.000000</td>\n      <td>171533.333333</td>\n      <td>174166.666667</td>\n      <td>179066.666667</td>\n      <td>183833.333333</td>\n      <td>187900.000000</td>\n      <td>191433.333333</td>\n      <td>195200.0</td>\n    </tr>\n    <tr>\n      <th>...</th>\n      <th>...</th>\n      <td>...</td>\n      <td>...</td>\n      <td>...</td>\n      <td>...</td>\n      <td>...</td>\n      <td>...</td>\n      <td>...</td>\n      <td>...</td>\n      <td>...</td>\n      <td>...</td>\n      <td>...</td>\n      <td>...</td>\n      <td>...</td>\n      <td>...</td>\n      <td>...</td>\n      <td>...</td>\n      <td>...</td>\n      <td>...</td>\n      <td>...</td>\n      <td>...</td>\n      <td>...</td>\n    </tr>\n    <tr>\n      <th>Wisconsin</th>\n      <th>Town of Wrightstown</th>\n      <td>101766.666667</td>\n      <td>105400.000000</td>\n      <td>111366.666667</td>\n      <td>114866.666667</td>\n      <td>125966.666667</td>\n      <td>129900.000000</td>\n      <td>129900.000000</td>\n      <td>129433.333333</td>\n      <td>131900.000000</td>\n      <td>134200.000000</td>\n      <td>...</td>\n      <td>144866.666667</td>\n      <td>146866.666667</td>\n      <td>149233.333333</td>\n      <td>148666.666667</td>\n      <td>149333.333333</td>\n      <td>149866.666667</td>\n      <td>149933.333333</td>\n      <td>149833.333333</td>\n      <td>151266.666667</td>\n      <td>155000.0</td>\n    </tr>\n    <tr>\n      <th>New York</th>\n      <th>Urbana</th>\n      <td>79200.000000</td>\n      <td>81666.666667</td>\n      <td>91700.000000</td>\n      <td>98366.666667</td>\n      <td>94866.666667</td>\n      <td>98533.333333</td>\n      <td>102966.666667</td>\n      <td>98033.333333</td>\n      <td>93966.666667</td>\n      <td>94600.000000</td>\n      <td>...</td>\n      <td>132133.333333</td>\n      <td>137033.333333</td>\n      <td>140066.666667</td>\n      <td>141700.000000</td>\n      <td>137866.666667</td>\n      <td>136466.666667</td>\n      <td>136166.666667</td>\n      <td>138966.666667</td>\n      <td>144200.000000</td>\n      <td>143000.0</td>\n    </tr>\n    <tr>\n      <th>Wisconsin</th>\n      <th>New Denmark</th>\n      <td>114566.666667</td>\n      <td>119266.666667</td>\n      <td>126066.666667</td>\n      <td>131966.666667</td>\n      <td>143800.000000</td>\n      <td>146966.666667</td>\n      <td>148366.666667</td>\n      <td>149166.666667</td>\n      <td>153133.333333</td>\n      <td>156733.333333</td>\n      <td>...</td>\n      <td>174566.666667</td>\n      <td>181166.666667</td>\n      <td>186166.666667</td>\n      <td>187600.000000</td>\n      <td>188666.666667</td>\n      <td>188433.333333</td>\n      <td>188933.333333</td>\n      <td>191066.666667</td>\n      <td>192833.333333</td>\n      <td>197600.0</td>\n    </tr>\n    <tr>\n      <th>California</th>\n      <th>Angels</th>\n      <td>151000.000000</td>\n      <td>155900.000000</td>\n      <td>158100.000000</td>\n      <td>167466.666667</td>\n      <td>176833.333333</td>\n      <td>183766.666667</td>\n      <td>190233.333333</td>\n      <td>184566.666667</td>\n      <td>184033.333333</td>\n      <td>186133.333333</td>\n      <td>...</td>\n      <td>244466.666667</td>\n      <td>254066.666667</td>\n      <td>259933.333333</td>\n      <td>260100.000000</td>\n      <td>250633.333333</td>\n      <td>263500.000000</td>\n      <td>279500.000000</td>\n      <td>276533.333333</td>\n      <td>271600.000000</td>\n      <td>269950.0</td>\n    </tr>\n    <tr>\n      <th>Wisconsin</th>\n      <th>Holland</th>\n      <td>151033.333333</td>\n      <td>150500.000000</td>\n      <td>153233.333333</td>\n      <td>155833.333333</td>\n      <td>161866.666667</td>\n      <td>165733.333333</td>\n      <td>168033.333333</td>\n      <td>167400.000000</td>\n      <td>165766.666667</td>\n      <td>161966.666667</td>\n      <td>...</td>\n      <td>201266.666667</td>\n      <td>201566.666667</td>\n      <td>201266.666667</td>\n      <td>206000.000000</td>\n      <td>207600.000000</td>\n      <td>212866.666667</td>\n      <td>217833.333333</td>\n      <td>221966.666667</td>\n      <td>228033.333333</td>\n      <td>234950.0</td>\n    </tr>\n  </tbody>\n</table>\n<p>10730 rows × 67 columns</p>\n</div>"
     },
     "metadata": {},
     "execution_count": 7
    }
   ],
   "source": [
    "def convert_housing_data_to_quarters():\n",
    "\n",
    "    Housing=pd.read_csv('City_Zhvi_AllHomes.csv')\n",
    "    # Use this dictionary to map state names to two letter acronyms\n",
    "    states = {'OH': 'Ohio', 'KY': 'Kentucky', 'AS': 'American Samoa', 'NV': 'Nevada', 'WY': 'Wyoming', 'NA': 'National', 'AL': 'Alabama', 'MD': 'Maryland', 'AK': 'Alaska', 'UT': 'Utah', 'OR': 'Oregon', 'MT': 'Montana', 'IL': 'Illinois', 'TN': 'Tennessee', 'DC': 'District of Columbia', 'VT': 'Vermont', 'ID': 'Idaho', 'AR': 'Arkansas', 'ME': 'Maine', 'WA': 'Washington', 'HI': 'Hawaii', 'WI': 'Wisconsin', 'MI': 'Michigan', 'IN': 'Indiana', 'NJ': 'New Jersey', 'AZ': 'Arizona', 'GU': 'Guam', 'MS': 'Mississippi', 'PR': 'Puerto Rico', 'NC': 'North Carolina', 'TX': 'Texas', 'SD': 'South Dakota', 'MP': 'Northern Mariana Islands', 'IA': 'Iowa', 'MO': 'Missouri', 'CT': 'Connecticut', 'WV': 'West Virginia', 'SC': 'South Carolina', 'LA': 'Louisiana', 'KS': 'Kansas', 'NY': 'New York', 'NE': 'Nebraska', 'OK': 'Oklahoma', 'FL': 'Florida', 'CA': 'California', 'CO': 'Colorado', 'PA': 'Pennsylvania', 'DE': 'Delaware', 'NM': 'New Mexico', 'RI': 'Rhode Island', 'MN': 'Minnesota', 'VI': 'Virgin Islands', 'NH': 'New Hampshire', 'MA': 'Massachusetts', 'GA': 'Georgia', 'ND': 'North Dakota', 'VA': 'Virginia'}\n",
    "\n",
    "    # map the state codes in Housing to the State names in above dictionary\n",
    "    Housing['STATE']=Housing['State'].map(states)\n",
    "\n",
    "    # set the combination of state and region name as index\n",
    "    Housing=Housing.set_index(['STATE','RegionName'])\n",
    "\n",
    "    # drop irrelevant data from DataFrame\n",
    "    Housing.drop(Housing.columns[[item for item in range(0,50)]], axis=1, inplace=True)\n",
    "    \n",
    "    # rename the columns to date time format\n",
    "    Housing= Housing.rename(columns=pd.to_datetime)\n",
    "\n",
    "    # modify the dataframe to get quarterly mean of prices\n",
    "    Housing = Housing.resample('Q',axis=1).mean()\n",
    "\n",
    "    # rename the columns to quarter format\n",
    "    Housing = Housing.rename(columns=lambda x: str(x.to_period('Q')).lower())\n",
    "    return Housing\n",
    "\n",
    "    '''Converts the housing data to quarters and returns it as mean \n",
    "    values in a dataframe. This dataframe should be a dataframe with\n",
    "    columns for 2000q1 through 2016q3, and should have a multi-index\n",
    "    in the shape of [\"State\",\"RegionName\"].\n",
    "    \n",
    "    Note: Quarters are defined in the assignment description, they are\n",
    "    not arbitrary three month periods.\n",
    "    \n",
    "    The resulting dataframe should have 67 columns, and 10,730 rows.\n",
    "    '''\n",
    "convert_housing_data_to_quarters()"
   ]
  },
  {
   "cell_type": "code",
   "execution_count": 8,
   "metadata": {
    "collapsed": false
   },
   "outputs": [
    {
     "output_type": "execute_result",
     "data": {
      "text/plain": "(True, 0.005164866327919532, 'university town')"
     },
     "metadata": {},
     "execution_count": 8
    }
   ],
   "source": [
    "def run_ttest():\n",
    "   # get the quarter value before recession start\n",
    "   start=get_recession_start()[0:5]+(str(int(get_recession_start()[5:6])-1))\n",
    "\n",
    "   # get quarter value for recession bottom\n",
    "   bottom=get_recession_bottom()\n",
    "\n",
    "   # get the housing data from above\n",
    "   Housing=convert_housing_data_to_quarters()\n",
    "\n",
    "   # get university town list and set index to state and region name\n",
    "   univ=get_list_of_university_towns().set_index(['State', 'RegionName'])\n",
    "\n",
    "   # calculate ratio of prices before start and at the bottom\n",
    "   Housing['ratio']=Housing[start].div(Housing[bottom])\n",
    "\n",
    "   # a boolean variable to check if the town is a university town\n",
    "   f=Housing.index.isin(univ.index)\n",
    "\n",
    "   # subset a dataframe of university towns\n",
    "   uni=Housing.loc[f==True].dropna()\n",
    "\n",
    "   # subset a dataframe of non-university towns\n",
    "   non_uni=Housing.loc[f==False].dropna()\n",
    "\n",
    "   # collect the mean of ratios for univ towns\n",
    "   mean_uni=uni['ratio'].mean()\n",
    "\n",
    "   # collect the mean of ratios for non-univ towns\n",
    "   mean_non_uni=non_uni['ratio'].mean()\n",
    "\n",
    "   # test if the ratios are statistically similar or different\n",
    "   x=stats.ttest_ind(uni['ratio'], non_uni['ratio'])\n",
    "\n",
    "   p=x[1]\n",
    "   different=False\n",
    "   better=''\n",
    "\n",
    "   if (p<0.01):\n",
    "      # statistically different\n",
    "      different=True\n",
    "\n",
    "   if (mean_uni < mean_non_uni):\n",
    "      better='university town'\n",
    "   else:\n",
    "      better='non-university town'\n",
    "\n",
    "   tup=(different,p,better)\n",
    "   return tup\n",
    "\n",
    "   # '''First creates new data showing the decline or growth of housing prices\n",
    "    #between the recession start and the recession bottom. Then runs a ttest\n",
    "    #comparing the university town values to the non-university towns values, \n",
    "    #return whether the alternative hypothesis (that the two groups are the same)\n",
    "    #is true or not as well as the p-value of the confidence. \n",
    "    \n",
    "    #Return the tuple (different, p, better) where different=True if the t-test is\n",
    "    #True at a p<0.01 (we reject the null hypothesis), or different=False if \n",
    "    #otherwise (we cannot reject the null hypothesis). The variable p should\n",
    "    #be equal to the exact p value returned from scipy.stats.ttest_ind(). The\n",
    "    #value for better should be either \"university town\" or \"non-university town\"\n",
    "    #depending on which has a lower mean price ratio (which is equivilent to a\n",
    "    #reduced market loss).'''\n",
    "    \n",
    "run_ttest()"
   ]
  },
  {
   "cell_type": "code",
   "execution_count": null,
   "metadata": {},
   "outputs": [],
   "source": []
  }
 ],
 "metadata": {
  "coursera": {
   "course_slug": "python-data-analysis",
   "graded_item_id": "Il9Fx",
   "launcher_item_id": "TeDW0",
   "part_id": "WGlun"
  },
  "kernelspec": {
   "display_name": "Python 3.7.7 64-bit",
   "language": "python",
   "name": "python37764bitc93c2ab14bb54a9e898317ef2f21e286"
  },
  "language_info": {
   "codemirror_mode": {
    "name": "ipython",
    "version": 3
   },
   "file_extension": ".py",
   "mimetype": "text/x-python",
   "name": "python",
   "nbconvert_exporter": "python",
   "pygments_lexer": "ipython3",
   "version": "3.7.7-final"
  }
 },
 "nbformat": 4,
 "nbformat_minor": 0
}
